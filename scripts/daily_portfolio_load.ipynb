{
 "cells": [
  {
   "cell_type": "markdown",
   "metadata": {},
   "source": [
    "# Portfolio Data Collection from Interactive Brokers\n",
    "\n",
    "This notebook demonstrates how to extract portfolio holdings from Interactive Brokers (IB) Gateway and store them in a database for further analysis.\n",
    "\n",
    "## Overview\n",
    "\n",
    "This notebook covers:\n",
    "- Connecting to Interactive Brokers Gateway\n",
    "- Extracting account summary and portfolio positions\n",
    "- Processing and transforming the data\n",
    "- Storing portfolio holdings in a database\n",
    "\n",
    "## Prerequisites\n",
    "\n",
    "Before running this notebook, ensure you have:\n",
    "- Interactive Brokers Gateway running on localhost:4001\n",
    "- Required Python packages installed\n",
    "- Database credentials stored in keyring\n",
    "- Appropriate database schema and functions"
   ]
  },
  {
   "cell_type": "markdown",
   "metadata": {},
   "source": [
    "## Required Libraries"
   ]
  },
  {
   "cell_type": "code",
   "execution_count": 13,
   "metadata": {},
   "outputs": [
    {
     "name": "stdout",
     "output_type": "stream",
     "text": [
      "Current directory: c:\\Users\\menon\\OneDrive\\Documents\\SourceCode\\InvestmentManagement\\scripts\n",
      "Added to path: c:\\Users\\menon\\OneDrive\\Documents\\SourceCode\\InvestmentManagement\n",
      "data_engineering exists: True\n",
      "data_engineering contents: ['database', 'eod_data', 'fundamental_data', '__init__.py', '__pycache__']\n"
     ]
    }
   ],
   "source": [
    "import sys\n",
    "import os\n",
    "\n",
    "# Get the current notebook's directory and go up to parent\n",
    "current_dir = os.getcwd()\n",
    "parent_dir = os.path.dirname(current_dir)\n",
    "\n",
    "if parent_dir not in sys.path:\n",
    "    sys.path.append(parent_dir)\n",
    "\n",
    "print(f\"Current directory: {current_dir}\")\n",
    "print(f\"Added to path: {parent_dir}\")\n",
    "\n",
    "# Verify the data_engineering folder exists\n",
    "data_eng_path = os.path.join(parent_dir, 'data_engineering')\n",
    "print(f\"data_engineering exists: {os.path.exists(data_eng_path)}\")\n",
    "\n",
    "if os.path.exists(data_eng_path):\n",
    "    print(f\"data_engineering contents: {os.listdir(data_eng_path)}\")"
   ]
  },
  {
   "cell_type": "code",
   "execution_count": 14,
   "metadata": {},
   "outputs": [],
   "source": [
    "from datetime import datetime, timedelta\n",
    "import keyring\n",
    "import pandas as pd\n",
    "from ib_insync import *\n",
    "from data_engineering.database import db_functions as database\n",
    "import nest_asyncio\n",
    "from ib_insync import *"
   ]
  },
  {
   "cell_type": "markdown",
   "metadata": {},
   "source": [
    "## Utility Functions\n",
    "\n",
    "### Get Trading Day Function\n",
    "\n",
    "This function ensures we always work with valid trading days (excluding weekends):"
   ]
  },
  {
   "cell_type": "code",
   "execution_count": 15,
   "metadata": {},
   "outputs": [
    {
     "name": "stdout",
     "output_type": "stream",
     "text": [
      "Current trading day: 2025-08-06\n"
     ]
    }
   ],
   "source": [
    "def get_trading_day():\n",
    "    \"\"\"\n",
    "    Get the most recent trading day (excluding weekends).\n",
    "    \n",
    "    Returns:\n",
    "        str: Date in 'YYYY-MM-DD' format\n",
    "    \"\"\"\n",
    "    today = datetime.today()\n",
    "    while today.weekday() >= 5:  # 5 = Saturday, 6 = Sunday\n",
    "        today -= timedelta(days=1)\n",
    "    return today.strftime('%Y-%m-%d')\n",
    "\n",
    "# Test the function\n",
    "print(f\"Current trading day: {get_trading_day()}\")"
   ]
  },
  {
   "cell_type": "markdown",
   "metadata": {},
   "source": [
    "## Interactive Brokers Connection\n",
    "\n",
    "### Establishing Connection\n",
    "\n",
    "**Note**: Ensure your IB Gateway is running and configured to accept API connections on port 4001."
   ]
  },
  {
   "cell_type": "code",
   "execution_count": 16,
   "metadata": {},
   "outputs": [
    {
     "name": "stdout",
     "output_type": "stream",
     "text": [
      "Attempting to connect to IB Gateway...\n",
      "Connected to IB Gateway: True\n",
      "Connection successful!\n",
      "Retrieved 119 account summary items\n"
     ]
    }
   ],
   "source": [
    "# Apply the patch for Jupyter compatibility\n",
    "nest_asyncio.apply()\n",
    "\n",
    "# Check if connection exists and close it\n",
    "try:\n",
    "    if 'ib' in globals() and ib.isConnected():\n",
    "        print(\"Existing connection found. Disconnecting...\")\n",
    "        ib.disconnect()\n",
    "        print(\"Disconnected successfully\")\n",
    "except NameError:\n",
    "    print(\"No existing connection variable found\")\n",
    "except Exception as e:\n",
    "    print(f\"Error checking/closing existing connection: {e}\")\n",
    "\n",
    "# Connect to IB Gateway\n",
    "ib = IB()\n",
    "\n",
    "try:\n",
    "    print(\"Attempting to connect to IB Gateway...\")\n",
    "    ib.connect('127.0.0.1', 4001, clientId=1, timeout=10)\n",
    "    print(f\"Connected to IB Gateway: {ib.isConnected()}\")\n",
    "    \n",
    "    # Test with a simple request\n",
    "    if ib.isConnected():\n",
    "        print(\"Connection successful!\")\n",
    "        # Get account summary\n",
    "        account_summary = ib.accountSummary()\n",
    "        print(f\"Retrieved {len(account_summary)} account summary items\")\n",
    "    else:\n",
    "        print(\"Connection failed\")\n",
    "        \n",
    "except Exception as e:\n",
    "    print(f\"Connection error: {e}\")\n",
    "    print(\"Make sure IB Gateway is running and API is enabled\")"
   ]
  },
  {
   "cell_type": "markdown",
   "metadata": {},
   "source": [
    "### Account Summary Extraction"
   ]
  },
  {
   "cell_type": "code",
   "execution_count": 17,
   "metadata": {},
   "outputs": [
    {
     "name": "stdout",
     "output_type": "stream",
     "text": [
      "Account Summary:\n",
      "                   tag                      value\n",
      "0          AccountType  IRA-UK RETIREMENT ACCOUNT\n",
      "1              Cushion                          1\n",
      "2  LookAheadNextChange                          0\n",
      "3          AccruedCash                       0.00\n",
      "4       AvailableFunds                       3.90\n"
     ]
    }
   ],
   "source": [
    "# Get account summary\n",
    "account_summary = ib.accountSummary('U20761295')\n",
    "account_summary_df = pd.DataFrame([\n",
    "    {'tag': row.tag, 'value': row.value} \n",
    "    for row in account_summary\n",
    "])\n",
    "\n",
    "print(\"Account Summary:\")\n",
    "print(account_summary_df.head())"
   ]
  },
  {
   "cell_type": "markdown",
   "metadata": {},
   "source": [
    "## Portfolio Holdings Extraction\n",
    "\n",
    "### Getting Current Positions"
   ]
  },
  {
   "cell_type": "code",
   "execution_count": 18,
   "metadata": {},
   "outputs": [
    {
     "name": "stdout",
     "output_type": "stream",
     "text": [
      "Retrieved 5 portfolio positions:\n",
      "   as_of_date portfolio_short_name symbol security_type exchange currency  \\\n",
      "0  2025-08-06            U20758256   MSCI           STK     NYSE      USD   \n",
      "1  2025-08-06            U20761295     MU           STK   NASDAQ      USD   \n",
      "2  2025-08-06            U20761295   EMBC           STK   NASDAQ      USD   \n",
      "3  2025-08-06            U20761295   IONQ           STK     NYSE      USD   \n",
      "4  2025-08-06            U20761295   UBER           STK     NYSE      USD   \n",
      "\n",
      "   held_shares   avg_cost  \n",
      "0          1.0  533.20000  \n",
      "1          1.0  124.86930  \n",
      "2          1.0   10.85750  \n",
      "3          2.0   40.97410  \n",
      "4          2.0   93.00905  \n"
     ]
    }
   ],
   "source": [
    "# Get portfolio holdings\n",
    "positions = ib.positions()\n",
    "portfolio_holdings = []\n",
    "\n",
    "for pos in positions:\n",
    "    contract = pos.contract\n",
    "    portfolio_holdings.append({\n",
    "        'as_of_date': get_trading_day(),\n",
    "        'portfolio_short_name': pos.account,\n",
    "        'symbol': contract.symbol,\n",
    "        'security_type': contract.secType,\n",
    "        'exchange': contract.exchange,\n",
    "        'currency': contract.currency,\n",
    "        'held_shares': pos.position,\n",
    "        'avg_cost': pos.avgCost,\n",
    "    })\n",
    "\n",
    "df_portfolio_holdings_data = pd.DataFrame(portfolio_holdings)\n",
    "\n",
    "print(f\"Retrieved {len(df_portfolio_holdings_data)} portfolio positions:\")\n",
    "print(df_portfolio_holdings_data.head())"
   ]
  },
  {
   "cell_type": "markdown",
   "metadata": {},
   "source": [
    "### Data Structure Overview\n",
    "\n",
    "The portfolio holdings DataFrame contains:\n",
    "- **as_of_date**: The trading date for the data\n",
    "- **portfolio_short_name**: Account identifier\n",
    "- **symbol**: Security symbol\n",
    "- **security_type**: Type of security (STK, OPT, etc.)\n",
    "- **exchange**: Exchange where the security is traded\n",
    "- **currency**: Currency denomination\n",
    "- **held_shares**: Number of shares held\n",
    "- **avg_cost**: Average cost per share"
   ]
  },
  {
   "cell_type": "markdown",
   "metadata": {},
   "source": [
    "## Database Operations\n",
    "\n",
    "### Secure Credential Management"
   ]
  },
  {
   "cell_type": "code",
   "execution_count": 19,
   "metadata": {},
   "outputs": [
    {
     "name": "stdout",
     "output_type": "stream",
     "text": [
      "Database credentials retrieved from keyring\n"
     ]
    }
   ],
   "source": [
    "# Secure credentials using keyring\n",
    "service_name = \"ihub_sql_connection\"\n",
    "db = keyring.get_password(service_name, \"db\")\n",
    "db_user = keyring.get_password(service_name, \"uid\")\n",
    "db_password = keyring.get_password(service_name, \"pwd\")\n",
    "\n",
    "print(\"Database credentials retrieved from keyring\")"
   ]
  },
  {
   "cell_type": "markdown",
   "metadata": {},
   "source": [
    "### Database Connection"
   ]
  },
  {
   "cell_type": "code",
   "execution_count": 20,
   "metadata": {},
   "outputs": [
    {
     "name": "stdout",
     "output_type": "stream",
     "text": [
      "Database connection successful.\n",
      "Database connection established\n"
     ]
    }
   ],
   "source": [
    "# Establish database connection\n",
    "engine, connection, session = database.get_db_connection()\n",
    "print(\"Database connection established\")"
   ]
  },
  {
   "cell_type": "markdown",
   "metadata": {},
   "source": [
    "### Data Enrichment"
   ]
  },
  {
   "cell_type": "code",
   "execution_count": 21,
   "metadata": {},
   "outputs": [
    {
     "name": "stdout",
     "output_type": "stream",
     "text": [
      "Securities master data: 159117 records\n",
      "Portfolio reference data: 1 records\n"
     ]
    }
   ],
   "source": [
    "# Read reference data from database\n",
    "df_securities = database.read_security_master(session, engine)\n",
    "df_portfolio_data = database.read_portfolio(\n",
    "    session, \n",
    "    engine, \n",
    "    df_portfolio_holdings_data['portfolio_short_name'].unique().tolist()\n",
    ")\n",
    "\n",
    "print(f\"Securities master data: {len(df_securities)} records\")\n",
    "print(f\"Portfolio reference data: {len(df_portfolio_data)} records\")"
   ]
  },
  {
   "cell_type": "markdown",
   "metadata": {},
   "source": [
    "### Data Merging and Transformation"
   ]
  },
  {
   "cell_type": "code",
   "execution_count": 22,
   "metadata": {},
   "outputs": [
    {
     "name": "stdout",
     "output_type": "stream",
     "text": [
      "Final portfolio data structure:\n",
      "   as_of_date  port_id  security_id  held_shares\n",
      "0  2025-08-06        1        99102          1.0\n",
      "1  2025-08-06        1        61581          1.0\n",
      "2  2025-08-06        1        80174          2.0\n",
      "3  2025-08-06        1       135038          2.0\n",
      "Total records to be stored: 4\n"
     ]
    }
   ],
   "source": [
    "# Merge portfolio holdings with reference data\n",
    "df_portfolio_market_data = pd.merge(\n",
    "    pd.merge(df_portfolio_data, df_portfolio_holdings_data),\n",
    "    df_securities, \n",
    "    on='symbol', \n",
    "    how='inner'\n",
    ")\n",
    "\n",
    "# Select final columns for database storage\n",
    "df_portfolio_market_data = df_portfolio_market_data[[\n",
    "    'as_of_date',\n",
    "    'port_id', \n",
    "    'security_id', \n",
    "    'held_shares'\n",
    "]]\n",
    "\n",
    "print(\"Final portfolio data structure:\")\n",
    "print(df_portfolio_market_data.head())\n",
    "print(f\"Total records to be stored: {len(df_portfolio_market_data)}\")"
   ]
  },
  {
   "cell_type": "markdown",
   "metadata": {},
   "source": [
    "### Data Storage"
   ]
  },
  {
   "cell_type": "code",
   "execution_count": 23,
   "metadata": {},
   "outputs": [
    {
     "name": "stdout",
     "output_type": "stream",
     "text": [
      "Portfolio holdings successfully written to database\n"
     ]
    }
   ],
   "source": [
    "# Write portfolio holdings to database\n",
    "database.write_portfolio_holdings(df_portfolio_market_data, session)\n",
    "print(\"Portfolio holdings successfully written to database\")"
   ]
  },
  {
   "cell_type": "markdown",
   "metadata": {},
   "source": [
    "## Cleanup and Disconnection"
   ]
  },
  {
   "cell_type": "code",
   "execution_count": 24,
   "metadata": {},
   "outputs": [
    {
     "name": "stdout",
     "output_type": "stream",
     "text": [
      "Disconnected from IB Gateway\n"
     ]
    }
   ],
   "source": [
    "# Disconnect from IB Gateway\n",
    "ib.disconnect()\n",
    "print(\"Disconnected from IB Gateway\")"
   ]
  },
  {
   "cell_type": "markdown",
   "metadata": {},
   "source": [
    "## Summary\n",
    "\n",
    "This notebook demonstrates a complete workflow for:\n",
    "\n",
    "1. **Data Extraction**: Connecting to Interactive Brokers Gateway and extracting portfolio positions\n",
    "2. **Data Transformation**: Converting raw position data into a structured format\n",
    "3. **Data Enrichment**: Merging with reference data from the database\n",
    "4. **Data Storage**: Persisting the processed data for analysis\n",
    "\n",
    "\n",
    "### Next Steps\n",
    "\n",
    "Consider enhancing this workflow with:\n",
    "- Error handling and logging\n",
    "- Data validation checks\n",
    "- Automated scheduling\n",
    "\n",
    "\n",
    "### Troubleshooting\n",
    "\n",
    "**Common Issues:**\n",
    "- **Connection Failed**: Ensure IB Gateway is running and API is enabled\n",
    "- **Authentication Error**: Verify keyring credentials are correctly stored\n",
    "- **Data Mismatch**: Check that symbols in positions match security master data\n",
    "- **Database Error**: Confirm database schema and permissions are correct"
   ]
  }
 ],
 "metadata": {
  "kernelspec": {
   "display_name": ".venv",
   "language": "python",
   "name": "python3"
  },
  "language_info": {
   "codemirror_mode": {
    "name": "ipython",
    "version": 3
   },
   "file_extension": ".py",
   "mimetype": "text/x-python",
   "name": "python",
   "nbconvert_exporter": "python",
   "pygments_lexer": "ipython3",
   "version": "3.11.3"
  }
 },
 "nbformat": 4,
 "nbformat_minor": 4
}
